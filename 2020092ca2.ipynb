{
 "cells": [
  {
   "cell_type": "code",
   "execution_count": 1,
   "id": "bac2e33b",
   "metadata": {},
   "outputs": [],
   "source": [
    "import pandas as pd\n",
    "import os\n",
    "import pyspark \n",
    "from pyspark.sql import SparkSession\n",
    "from pyspark.sql.types import StructType"
   ]
  },
  {
   "cell_type": "code",
   "execution_count": 2,
   "id": "7e9f01a3",
   "metadata": {},
   "outputs": [],
   "source": [
    "import warnings\n",
    "warnings.filterwarnings(\"ignore\")"
   ]
  },
  {
   "cell_type": "code",
   "execution_count": 3,
   "id": "c1fa2adc",
   "metadata": {},
   "outputs": [
    {
     "data": {
      "text/html": [
       "\n",
       "        <div>\n",
       "            <p><b>SparkContext</b></p>\n",
       "\n",
       "            <p><a href=\"http://10.0.2.15:4040\">Spark UI</a></p>\n",
       "\n",
       "            <dl>\n",
       "              <dt>Version</dt>\n",
       "                <dd><code>v3.1.3</code></dd>\n",
       "              <dt>Master</dt>\n",
       "                <dd><code>local[*]</code></dd>\n",
       "              <dt>AppName</dt>\n",
       "                <dd><code>PySparkShell</code></dd>\n",
       "            </dl>\n",
       "        </div>\n",
       "        "
      ],
      "text/plain": [
       "<SparkContext master=local[*] appName=PySparkShell>"
      ]
     },
     "execution_count": 3,
     "metadata": {},
     "output_type": "execute_result"
    }
   ],
   "source": [
    "sc"
   ]
  },
  {
   "cell_type": "code",
   "execution_count": 4,
   "id": "ccb16f9f",
   "metadata": {},
   "outputs": [
    {
     "data": {
      "text/plain": [
       "'local[*]'"
      ]
     },
     "execution_count": 4,
     "metadata": {},
     "output_type": "execute_result"
    }
   ],
   "source": [
    "sc.master"
   ]
  },
  {
   "cell_type": "code",
   "execution_count": 5,
   "id": "f90e6a1c",
   "metadata": {},
   "outputs": [],
   "source": [
    "import re \n",
    "from operator import add"
   ]
  },
  {
   "cell_type": "code",
   "execution_count": 42,
   "id": "b2f2593e",
   "metadata": {},
   "outputs": [
    {
     "name": "stderr",
     "output_type": "stream",
     "text": [
      "IOPub data rate exceeded.                                                       \n",
      "The notebook server will temporarily stop sending output\n",
      "to the client in order to avoid crashing it.\n",
      "To change this limit, set the config variable\n",
      "`--NotebookApp.iopub_data_rate_limit`.\n",
      "\n",
      "Current values:\n",
      "NotebookApp.iopub_data_rate_limit=1000000.0 (bytes/sec)\n",
      "NotebookApp.rate_limit_window=3.0 (secs)\n",
      "\n"
     ]
    }
   ],
   "source": [
    "from pyspark.sql import SparkSession\n",
    "\n",
    "spark = SparkSession \\\n",
    "    .builder \\\n",
    "    .appName(\"Python Spark SQL basic example\") \\\n",
    "    .getOrCreate()\n",
    "\n",
    "df = spark.read.csv('/ca2/ProjectTweets.csv',header=True,inferSchema = True, sep=\"|\")\n",
    "\n",
    "print(df.collect())"
   ]
  },
  {
   "cell_type": "code",
   "execution_count": 7,
   "id": "c76eefcd",
   "metadata": {},
   "outputs": [],
   "source": [
    "# spark is from the previous example.\n",
    "sc = spark.sparkContext\n",
    "\n",
    "# A CSV dataset is pointed to by path.\n",
    "\n",
    "path = \"/ca2/ProjectTweets.csv\"\n",
    "TweetsDF = spark.read.csv(path)"
   ]
  },
  {
   "cell_type": "code",
   "execution_count": 45,
   "id": "daa1bbbd",
   "metadata": {},
   "outputs": [
    {
     "name": "stdout",
     "output_type": "stream",
     "text": [
      "root\n",
      " |-- _c0: string (nullable = true)\n",
      " |-- _c1: string (nullable = true)\n",
      " |-- _c2: string (nullable = true)\n",
      " |-- _c3: string (nullable = true)\n",
      " |-- _c4: string (nullable = true)\n",
      " |-- _c5: string (nullable = true)\n",
      "\n"
     ]
    }
   ],
   "source": [
    "TweetsDF.printSchema()"
   ]
  },
  {
   "cell_type": "code",
   "execution_count": 46,
   "id": "e899bf2d",
   "metadata": {},
   "outputs": [],
   "source": [
    "from pyspark.sql.types import *"
   ]
  },
  {
   "cell_type": "code",
   "execution_count": 48,
   "id": "afb81775",
   "metadata": {},
   "outputs": [],
   "source": [
    "pt = StructType([\n",
    "    StructField(\"row\", IntegerType(),True),\n",
    "    StructField(\"id\", IntegerType(),True),\n",
    "    StructField(\"date\", DateType(),True),\n",
    "    StructField(\"query\", StringType(),False),\n",
    "    StructField(\"user\", StringType(),True),\n",
    "    StructField(\"text\", StringType(),True) \n",
    "    \n",
    "])\n",
    "#schema = typ.StructType(pt)"
   ]
  },
  {
   "cell_type": "code",
   "execution_count": 50,
   "id": "18e5f727",
   "metadata": {},
   "outputs": [
    {
     "name": "stdout",
     "output_type": "stream",
     "text": [
      "+---+----------+----+--------+---------------+--------------------+\n",
      "|row|        id|date|   query|           user|                text|\n",
      "+---+----------+----+--------+---------------+--------------------+\n",
      "|  0|1467810369|null|NO_QUERY|_TheSpecialOne_|@switchfoot http:...|\n",
      "|  1|1467810672|null|NO_QUERY|  scotthamilton|is upset that he ...|\n",
      "|  2|1467810917|null|NO_QUERY|       mattycus|@Kenichan I dived...|\n",
      "|  3|1467811184|null|NO_QUERY|        ElleCTF|my whole body fee...|\n",
      "|  4|1467811193|null|NO_QUERY|         Karoli|@nationwideclass ...|\n",
      "|  5|1467811372|null|NO_QUERY|       joy_wolf|@Kwesidei not the...|\n",
      "|  6|1467811592|null|NO_QUERY|        mybirch|         Need a hug |\n",
      "|  7|1467811594|null|NO_QUERY|           coZZ|@LOLTrish hey  lo...|\n",
      "|  8|1467811795|null|NO_QUERY|2Hood4Hollywood|@Tatiana_K nope t...|\n",
      "|  9|1467812025|null|NO_QUERY|        mimismo|@twittera que me ...|\n",
      "| 10|1467812416|null|NO_QUERY| erinx3leannexo|spring break in p...|\n",
      "| 11|1467812579|null|NO_QUERY|   pardonlauren|I just re-pierced...|\n",
      "| 12|1467812723|null|NO_QUERY|           TLeC|@caregiving I cou...|\n",
      "| 13|1467812771|null|NO_QUERY|robrobbierobert|@octolinz16 It it...|\n",
      "| 14|1467812784|null|NO_QUERY|    bayofwolves|@smarrison i woul...|\n",
      "| 15|1467812799|null|NO_QUERY|     HairByJess|@iamjazzyfizzle I...|\n",
      "| 16|1467812964|null|NO_QUERY| lovesongwriter|Hollis' death sce...|\n",
      "| 17|1467813137|null|NO_QUERY|       armotley|about to file taxes |\n",
      "| 18|1467813579|null|NO_QUERY|     starkissed|@LettyA ahh ive a...|\n",
      "| 19|1467813782|null|NO_QUERY|      gi_gi_bee|@FakerPattyPattz ...|\n",
      "+---+----------+----+--------+---------------+--------------------+\n",
      "only showing top 20 rows\n",
      "\n"
     ]
    }
   ],
   "source": [
    "protwe = spark.read.csv(path, schema = pt)\n",
    "protwe.show()"
   ]
  },
  {
   "cell_type": "code",
   "execution_count": 34,
   "id": "5c325ec0",
   "metadata": {},
   "outputs": [
    {
     "name": "stderr",
     "output_type": "stream",
     "text": [
      "2023-11-09 17:47:53,703 WARN conf.HiveConf: HiveConf of name hive.stats.jdbc.timeout does not exist\n",
      "2023-11-09 17:47:53,705 WARN conf.HiveConf: HiveConf of name hive.stats.retries.wait does not exist\n",
      "2023-11-09 17:48:05,370 WARN metastore.ObjectStore: Version information not found in metastore. hive.metastore.schema.verification is not enabled so recording the schema version 2.3.0\n",
      "2023-11-09 17:48:05,376 WARN metastore.ObjectStore: setMetaStoreSchemaVersion called but recording version is disabled: version = 2.3.0, comment = Set by MetaStore hduser@127.0.1.1\n",
      "2023-11-09 17:48:05,463 WARN metastore.ObjectStore: Failed to get database default, returning NoSuchObjectException\n",
      "2023-11-09 17:48:07,591 WARN metastore.ObjectStore: Failed to get database global_temp, returning NoSuchObjectException\n"
     ]
    }
   ],
   "source": [
    "# Creates a temporary view using the DataFrame\n",
    "TweetsDF.createGlobalTempView(\"tweets\")"
   ]
  },
  {
   "cell_type": "code",
   "execution_count": 35,
   "id": "331690b7",
   "metadata": {},
   "outputs": [
    {
     "name": "stdout",
     "output_type": "stream",
     "text": [
      "+---+----------+--------------------+--------+---------------+--------------------+\n",
      "|Row|       IDs|                Date|   Query|           User|               Tweet|\n",
      "+---+----------+--------------------+--------+---------------+--------------------+\n",
      "|  0|1467810369|Mon Apr 06 22:19:...|NO_QUERY|_TheSpecialOne_|@switchfoot http:...|\n",
      "|  1|1467810672|Mon Apr 06 22:19:...|NO_QUERY|  scotthamilton|is upset that he ...|\n",
      "|  2|1467810917|Mon Apr 06 22:19:...|NO_QUERY|       mattycus|@Kenichan I dived...|\n",
      "|  3|1467811184|Mon Apr 06 22:19:...|NO_QUERY|        ElleCTF|my whole body fee...|\n",
      "|  4|1467811193|Mon Apr 06 22:19:...|NO_QUERY|         Karoli|@nationwideclass ...|\n",
      "|  5|1467811372|Mon Apr 06 22:20:...|NO_QUERY|       joy_wolf|@Kwesidei not the...|\n",
      "|  6|1467811592|Mon Apr 06 22:20:...|NO_QUERY|        mybirch|         Need a hug |\n",
      "|  7|1467811594|Mon Apr 06 22:20:...|NO_QUERY|           coZZ|@LOLTrish hey  lo...|\n",
      "|  8|1467811795|Mon Apr 06 22:20:...|NO_QUERY|2Hood4Hollywood|@Tatiana_K nope t...|\n",
      "|  9|1467812025|Mon Apr 06 22:20:...|NO_QUERY|        mimismo|@twittera que me ...|\n",
      "| 10|1467812416|Mon Apr 06 22:20:...|NO_QUERY| erinx3leannexo|spring break in p...|\n",
      "| 11|1467812579|Mon Apr 06 22:20:...|NO_QUERY|   pardonlauren|I just re-pierced...|\n",
      "| 12|1467812723|Mon Apr 06 22:20:...|NO_QUERY|           TLeC|@caregiving I cou...|\n",
      "| 13|1467812771|Mon Apr 06 22:20:...|NO_QUERY|robrobbierobert|@octolinz16 It it...|\n",
      "| 14|1467812784|Mon Apr 06 22:20:...|NO_QUERY|    bayofwolves|@smarrison i woul...|\n",
      "| 15|1467812799|Mon Apr 06 22:20:...|NO_QUERY|     HairByJess|@iamjazzyfizzle I...|\n",
      "| 16|1467812964|Mon Apr 06 22:20:...|NO_QUERY| lovesongwriter|Hollis' death sce...|\n",
      "| 17|1467813137|Mon Apr 06 22:20:...|NO_QUERY|       armotley|about to file taxes |\n",
      "| 18|1467813579|Mon Apr 06 22:20:...|NO_QUERY|     starkissed|@LettyA ahh ive a...|\n",
      "| 19|1467813782|Mon Apr 06 22:20:...|NO_QUERY|      gi_gi_bee|@FakerPattyPattz ...|\n",
      "+---+----------+--------------------+--------+---------------+--------------------+\n",
      "only showing top 20 rows\n",
      "\n"
     ]
    }
   ],
   "source": [
    "# SQL statements can be run by using the sql methods provided by spark\n",
    "tweetsDF = spark.sql(\"SELECT _c0 as Row, _c1 as IDs, _c2 as Date, _c3 as Query, _c4 as User, _c5 as Tweet FROM tweets\")\n",
    "tweetsDF.show()"
   ]
  },
  {
   "cell_type": "code",
   "execution_count": 41,
   "id": "cb0e71bb",
   "metadata": {},
   "outputs": [],
   "source": [
    "#df = spark.read.load(\"examples/src/main/resources/users.parquet\")\n",
    "#tweetsDF.select(\"Tweet\").write.save(\"Tweet.csv\")"
   ]
  },
  {
   "cell_type": "code",
   "execution_count": 36,
   "id": "6efc17d9",
   "metadata": {},
   "outputs": [
    {
     "name": "stdout",
     "output_type": "stream",
     "text": [
      "+---------------+\n",
      "|           User|\n",
      "+---------------+\n",
      "|_TheSpecialOne_|\n",
      "|  scotthamilton|\n",
      "|       mattycus|\n",
      "|        ElleCTF|\n",
      "|         Karoli|\n",
      "|       joy_wolf|\n",
      "|        mybirch|\n",
      "|           coZZ|\n",
      "|2Hood4Hollywood|\n",
      "|        mimismo|\n",
      "| erinx3leannexo|\n",
      "|   pardonlauren|\n",
      "|           TLeC|\n",
      "|robrobbierobert|\n",
      "|    bayofwolves|\n",
      "|     HairByJess|\n",
      "| lovesongwriter|\n",
      "|       armotley|\n",
      "|     starkissed|\n",
      "|      gi_gi_bee|\n",
      "+---------------+\n",
      "only showing top 20 rows\n",
      "\n"
     ]
    }
   ],
   "source": [
    "userDF = spark.sql(\"SELECT _c4 as User FROM tweets\")\n",
    "userDF.show()"
   ]
  },
  {
   "cell_type": "code",
   "execution_count": 37,
   "id": "5cfbde51",
   "metadata": {},
   "outputs": [
    {
     "name": "stdout",
     "output_type": "stream",
     "text": [
      "+--------------------+\n",
      "|              Tweets|\n",
      "+--------------------+\n",
      "|@switchfoot http:...|\n",
      "|is upset that he ...|\n",
      "|@Kenichan I dived...|\n",
      "|my whole body fee...|\n",
      "|@nationwideclass ...|\n",
      "|@Kwesidei not the...|\n",
      "|         Need a hug |\n",
      "|@LOLTrish hey  lo...|\n",
      "|@Tatiana_K nope t...|\n",
      "|@twittera que me ...|\n",
      "|spring break in p...|\n",
      "|I just re-pierced...|\n",
      "|@caregiving I cou...|\n",
      "|@octolinz16 It it...|\n",
      "|@smarrison i woul...|\n",
      "|@iamjazzyfizzle I...|\n",
      "|Hollis' death sce...|\n",
      "|about to file taxes |\n",
      "|@LettyA ahh ive a...|\n",
      "|@FakerPattyPattz ...|\n",
      "+--------------------+\n",
      "only showing top 20 rows\n",
      "\n"
     ]
    }
   ],
   "source": [
    "textDF = spark.sql(\"SELECT _c5 as Tweets FROM tweets\")\n",
    "textDF.show()"
   ]
  },
  {
   "cell_type": "code",
   "execution_count": 38,
   "id": "2d949d7c",
   "metadata": {},
   "outputs": [
    {
     "name": "stdout",
     "output_type": "stream",
     "text": [
      "+--------------------+\n",
      "|               Dates|\n",
      "+--------------------+\n",
      "|Mon Apr 06 22:19:...|\n",
      "|Mon Apr 06 22:19:...|\n",
      "|Mon Apr 06 22:19:...|\n",
      "|Mon Apr 06 22:19:...|\n",
      "|Mon Apr 06 22:19:...|\n",
      "|Mon Apr 06 22:20:...|\n",
      "|Mon Apr 06 22:20:...|\n",
      "|Mon Apr 06 22:20:...|\n",
      "|Mon Apr 06 22:20:...|\n",
      "|Mon Apr 06 22:20:...|\n",
      "|Mon Apr 06 22:20:...|\n",
      "|Mon Apr 06 22:20:...|\n",
      "|Mon Apr 06 22:20:...|\n",
      "|Mon Apr 06 22:20:...|\n",
      "|Mon Apr 06 22:20:...|\n",
      "|Mon Apr 06 22:20:...|\n",
      "|Mon Apr 06 22:20:...|\n",
      "|Mon Apr 06 22:20:...|\n",
      "|Mon Apr 06 22:20:...|\n",
      "|Mon Apr 06 22:20:...|\n",
      "+--------------------+\n",
      "only showing top 20 rows\n",
      "\n"
     ]
    }
   ],
   "source": [
    "dateDF = spark.sql(\"SELECT _c2 as Dates FROM tweets\")\n",
    "dateDF.show()"
   ]
  },
  {
   "cell_type": "code",
   "execution_count": 17,
   "id": "0f335508",
   "metadata": {
    "scrolled": true
   },
   "outputs": [
    {
     "name": "stderr",
     "output_type": "stream",
     "text": [
      "                                                                                \r"
     ]
    },
    {
     "name": "stdout",
     "output_type": "stream",
     "text": [
      "Count of rows: 1600000\n"
     ]
    },
    {
     "name": "stderr",
     "output_type": "stream",
     "text": [
      "[Stage 10:===============================================>      (176 + 1) / 200]\r"
     ]
    },
    {
     "name": "stdout",
     "output_type": "stream",
     "text": [
      "Count of distinct rows: 774363\n"
     ]
    },
    {
     "name": "stderr",
     "output_type": "stream",
     "text": [
      "\r",
      "[Stage 10:==================================================>   (188 + 1) / 200]\r",
      "\r",
      "                                                                                \r"
     ]
    }
   ],
   "source": [
    "#Looking for duplicates\n",
    "print('Count of rows: {0}'.format(dateDF.count()))\n",
    "print('Count of distinct rows: {0}'.format(dateDF.distinct().count()))"
   ]
  },
  {
   "cell_type": "code",
   "execution_count": 18,
   "id": "3fb33bf1",
   "metadata": {},
   "outputs": [
    {
     "data": {
      "text/plain": [
       "[('Dates', 'string')]"
      ]
     },
     "execution_count": 18,
     "metadata": {},
     "output_type": "execute_result"
    }
   ],
   "source": [
    "dateDF.dtypes"
   ]
  },
  {
   "cell_type": "code",
   "execution_count": 28,
   "id": "c1749d9e",
   "metadata": {},
   "outputs": [],
   "source": [
    "#dateDF = pd.to_datetime('dateDF').dt.date"
   ]
  },
  {
   "cell_type": "code",
   "execution_count": 33,
   "id": "c14e6d08",
   "metadata": {},
   "outputs": [
    {
     "name": "stdout",
     "output_type": "stream",
     "text": [
      "+--------------------+\n",
      "|               Dates|\n",
      "+--------------------+\n",
      "|Mon Apr 06 22:19:...|\n",
      "|Mon Apr 06 22:19:...|\n",
      "|Mon Apr 06 22:19:...|\n",
      "|Mon Apr 06 22:19:...|\n",
      "|Mon Apr 06 22:19:...|\n",
      "|Mon Apr 06 22:20:...|\n",
      "|Mon Apr 06 22:20:...|\n",
      "|Mon Apr 06 22:20:...|\n",
      "|Mon Apr 06 22:20:...|\n",
      "|Mon Apr 06 22:20:...|\n",
      "|Mon Apr 06 22:20:...|\n",
      "|Mon Apr 06 22:20:...|\n",
      "|Mon Apr 06 22:20:...|\n",
      "|Mon Apr 06 22:20:...|\n",
      "|Mon Apr 06 22:20:...|\n",
      "|Mon Apr 06 22:20:...|\n",
      "|Mon Apr 06 22:20:...|\n",
      "|Mon Apr 06 22:20:...|\n",
      "|Mon Apr 06 22:20:...|\n",
      "|Mon Apr 06 22:20:...|\n",
      "+--------------------+\n",
      "only showing top 20 rows\n",
      "\n"
     ]
    }
   ],
   "source": [
    "dateDF.select(\"Dates\").show()"
   ]
  },
  {
   "cell_type": "code",
   "execution_count": 54,
   "id": "f9965314",
   "metadata": {},
   "outputs": [
    {
     "name": "stderr",
     "output_type": "stream",
     "text": [
      "                                                                                \r"
     ]
    }
   ],
   "source": [
    "dateDF.write.format('csv').mode('Overwrite').option('path','output').save()"
   ]
  },
  {
   "cell_type": "code",
   "execution_count": 57,
   "id": "abca836a",
   "metadata": {
    "scrolled": false
   },
   "outputs": [
    {
     "name": "stderr",
     "output_type": "stream",
     "text": [
      "                                                                                \r"
     ]
    }
   ],
   "source": [
    "tweet = sc.textFile('/ca2/ProjectTweets.csv')\n",
    "header = tweet.first()\n",
    "\n",
    "tweet = tweet \\\n",
    "    .filter(lambda row: row != header) \\\n",
    "    .map(lambda row: [int(elem) for elem in row.split(',')])"
   ]
  },
  {
   "cell_type": "code",
   "execution_count": 58,
   "id": "ec3d7f94",
   "metadata": {},
   "outputs": [],
   "source": [
    "tweets_df = spark.read.format('csv') \\\n",
    ".schema(pt) \\\n",
    ".load(path)"
   ]
  },
  {
   "cell_type": "code",
   "execution_count": 59,
   "id": "b1274673",
   "metadata": {},
   "outputs": [
    {
     "data": {
      "text/plain": [
       "DataFrame[row: int, id: int, date: date, query: string, user: string, text: string]"
      ]
     },
     "metadata": {},
     "output_type": "display_data"
    }
   ],
   "source": [
    "display (tweets_df)"
   ]
  },
  {
   "cell_type": "code",
   "execution_count": 60,
   "id": "43b9b88d",
   "metadata": {},
   "outputs": [],
   "source": [
    "data_df = spark.createDataFrame(tweet,pt)"
   ]
  },
  {
   "cell_type": "code",
   "execution_count": 91,
   "id": "4239c6aa",
   "metadata": {},
   "outputs": [
    {
     "name": "stdout",
     "output_type": "stream",
     "text": [
      "root\n",
      " |-- row: integer (nullable = true)\n",
      " |-- id: integer (nullable = true)\n",
      " |-- date: date (nullable = true)\n",
      " |-- query: string (nullable = true)\n",
      " |-- user: string (nullable = true)\n",
      " |-- text: string (nullable = true)\n",
      "\n"
     ]
    }
   ],
   "source": [
    "data_df.printSchema()"
   ]
  },
  {
   "cell_type": "code",
   "execution_count": 61,
   "id": "6f24ab04",
   "metadata": {},
   "outputs": [],
   "source": [
    "from dateutil.parser import parse \n",
    "import matplotlib as mpl\n",
    "import matplotlib.pyplot as plt\n",
    "import seaborn as sns\n",
    "import numpy as np\n",
    "import pandas as pd\n",
    "plt.rcParams.update({'figure.figsize': (10, 7), 'figure.dpi': 120})"
   ]
  },
  {
   "cell_type": "code",
   "execution_count": 72,
   "id": "40e07a6e",
   "metadata": {
    "scrolled": true
   },
   "outputs": [
    {
     "data": {
      "text/html": [
       "<div>\n",
       "<style scoped>\n",
       "    .dataframe tbody tr th:only-of-type {\n",
       "        vertical-align: middle;\n",
       "    }\n",
       "\n",
       "    .dataframe tbody tr th {\n",
       "        vertical-align: top;\n",
       "    }\n",
       "\n",
       "    .dataframe thead th {\n",
       "        text-align: right;\n",
       "    }\n",
       "</style>\n",
       "<table border=\"1\" class=\"dataframe\">\n",
       "  <thead>\n",
       "    <tr style=\"text-align: right;\">\n",
       "      <th></th>\n",
       "      <th>Row</th>\n",
       "      <th>Ids</th>\n",
       "      <th>Dates</th>\n",
       "      <th>Query</th>\n",
       "      <th>User</th>\n",
       "      <th>Tweet</th>\n",
       "    </tr>\n",
       "  </thead>\n",
       "  <tbody>\n",
       "    <tr>\n",
       "      <th>0</th>\n",
       "      <td>0</td>\n",
       "      <td>1467810369</td>\n",
       "      <td>Mon Apr 06 22:19:45 PDT 2009</td>\n",
       "      <td>NO_QUERY</td>\n",
       "      <td>_TheSpecialOne_</td>\n",
       "      <td>@switchfoot http://twitpic.com/2y1zl - Awww, t...</td>\n",
       "    </tr>\n",
       "    <tr>\n",
       "      <th>1</th>\n",
       "      <td>1</td>\n",
       "      <td>1467810672</td>\n",
       "      <td>Mon Apr 06 22:19:49 PDT 2009</td>\n",
       "      <td>NO_QUERY</td>\n",
       "      <td>scotthamilton</td>\n",
       "      <td>is upset that he can't update his Facebook by ...</td>\n",
       "    </tr>\n",
       "    <tr>\n",
       "      <th>2</th>\n",
       "      <td>2</td>\n",
       "      <td>1467810917</td>\n",
       "      <td>Mon Apr 06 22:19:53 PDT 2009</td>\n",
       "      <td>NO_QUERY</td>\n",
       "      <td>mattycus</td>\n",
       "      <td>@Kenichan I dived many times for the ball. Man...</td>\n",
       "    </tr>\n",
       "    <tr>\n",
       "      <th>3</th>\n",
       "      <td>3</td>\n",
       "      <td>1467811184</td>\n",
       "      <td>Mon Apr 06 22:19:57 PDT 2009</td>\n",
       "      <td>NO_QUERY</td>\n",
       "      <td>ElleCTF</td>\n",
       "      <td>my whole body feels itchy and like its on fire</td>\n",
       "    </tr>\n",
       "    <tr>\n",
       "      <th>4</th>\n",
       "      <td>4</td>\n",
       "      <td>1467811193</td>\n",
       "      <td>Mon Apr 06 22:19:57 PDT 2009</td>\n",
       "      <td>NO_QUERY</td>\n",
       "      <td>Karoli</td>\n",
       "      <td>@nationwideclass no, it's not behaving at all....</td>\n",
       "    </tr>\n",
       "  </tbody>\n",
       "</table>\n",
       "</div>"
      ],
      "text/plain": [
       "   Row         Ids                         Dates     Query             User  \\\n",
       "0    0  1467810369  Mon Apr 06 22:19:45 PDT 2009  NO_QUERY  _TheSpecialOne_   \n",
       "1    1  1467810672  Mon Apr 06 22:19:49 PDT 2009  NO_QUERY    scotthamilton   \n",
       "2    2  1467810917  Mon Apr 06 22:19:53 PDT 2009  NO_QUERY         mattycus   \n",
       "3    3  1467811184  Mon Apr 06 22:19:57 PDT 2009  NO_QUERY          ElleCTF   \n",
       "4    4  1467811193  Mon Apr 06 22:19:57 PDT 2009  NO_QUERY           Karoli   \n",
       "\n",
       "                                               Tweet  \n",
       "0  @switchfoot http://twitpic.com/2y1zl - Awww, t...  \n",
       "1  is upset that he can't update his Facebook by ...  \n",
       "2  @Kenichan I dived many times for the ball. Man...  \n",
       "3    my whole body feels itchy and like its on fire   \n",
       "4  @nationwideclass no, it's not behaving at all....  "
      ]
     },
     "execution_count": 72,
     "metadata": {},
     "output_type": "execute_result"
    }
   ],
   "source": [
    "# Import as Dataframe\n",
    "T = pd.read_csv('tweets.csv')\n",
    "T.head()"
   ]
  },
  {
   "cell_type": "code",
   "execution_count": 89,
   "id": "ed41b216",
   "metadata": {},
   "outputs": [
    {
     "data": {
      "text/plain": [
       "Row               int64\n",
       "Ids               int64\n",
       "Dates    datetime64[ns]\n",
       "Query            object\n",
       "User             object\n",
       "Tweet            object\n",
       "dtype: object"
      ]
     },
     "execution_count": 89,
     "metadata": {},
     "output_type": "execute_result"
    }
   ],
   "source": [
    "T.dtypes"
   ]
  },
  {
   "cell_type": "code",
   "execution_count": 81,
   "id": "135ffd50",
   "metadata": {},
   "outputs": [],
   "source": [
    "# convert to datetime using pd.to_datetime\n",
    "T['Dates'] = pd.to_datetime(T['Dates'])"
   ]
  },
  {
   "cell_type": "code",
   "execution_count": 88,
   "id": "aa94ac0f",
   "metadata": {},
   "outputs": [
    {
     "data": {
      "image/png": "[encoded data removed]",
      "text/plain": [
       "<Figure size 1600x500 with 1 Axes>"
      ]
     },
     "metadata": {
      "needs_background": "light"
     },
     "output_type": "display_data"
    }
   ],
   "source": [
    "# Time series data \n",
    "import matplotlib.pyplot as plt\n",
    "\n",
    "# Draw Plot\n",
    "def plot_T(T, x, y, title=\"Tweets\", xlabel='Dates', ylabel='Row', dpi=100):\n",
    "    plt.figure(figsize=(16,5), dpi=dpi)\n",
    "    plt.plot(x, y, color='tab:red')\n",
    "    plt.gca().set(title=title, xlabel=xlabel, ylabel=ylabel)\n",
    "    plt.show()\n",
    "\n",
    "plot_T(T, x=T.index, y=T['Row'], title='Tweets.')    "
   ]
  },
  {
   "cell_type": "code",
   "execution_count": 91,
   "id": "00b45b25",
   "metadata": {},
   "outputs": [
    {
     "data": {
      "image/png": "[encoded data removed]",
      "text/plain": [
       "<Figure size 1920x600 with 1 Axes>"
      ]
     },
     "metadata": {
      "needs_background": "light"
     },
     "output_type": "display_data"
    }
   ],
   "source": [
    "# Plot\n",
    "x = T['Dates'].values\n",
    "y1 = T['Row'].values\n",
    "fig, ax = plt.subplots(1, 1, figsize=(16,5), dpi= 120)\n",
    "plt.fill_between(x, y1=y1, y2=-y1, alpha=0.5, linewidth=2, color='seagreen')\n",
    "plt.ylim(-800, 800)\n",
    "plt.title('Tweets (Two Side View)', fontsize=16)\n",
    "plt.hlines(y=0, xmin=np.min(T.Dates), xmax=np.max(T.Dates), linewidth=.5)\n",
    "plt.show()"
   ]
  },
  {
   "cell_type": "code",
   "execution_count": 93,
   "id": "a22cec9f",
   "metadata": {},
   "outputs": [],
   "source": [
    "# Import Data\n",
    "T = pd.read_csv('tweets.csv', parse_dates=['Dates'], index_col='Dates')\n",
    "T.reset_index(inplace=True)\n",
    "\n"
   ]
  },
  {
   "cell_type": "code",
   "execution_count": null,
   "id": "2b9206b6",
   "metadata": {},
   "outputs": [],
   "source": []
  }
 ],
 "metadata": {
  "kernelspec": {
   "display_name": "Python 3 (ipykernel)",
   "language": "python",
   "name": "python3"
  },
  "language_info": {
   "codemirror_mode": {
    "name": "ipython",
    "version": 3
   },
   "file_extension": ".py",
   "mimetype": "text/x-python",
   "name": "python",
   "nbconvert_exporter": "python",
   "pygments_lexer": "ipython3",
   "version": "3.10.12"
  }
 },
 "nbformat": 4,
 "nbformat_minor": 5
}
