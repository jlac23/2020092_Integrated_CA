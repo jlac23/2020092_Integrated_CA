{
 "cells": [
  {
   "cell_type": "code",
   "execution_count": 35,
   "id": "efff3831",
   "metadata": {},
   "outputs": [],
   "source": [
    "from pyspark import SparkContext, SparkConf\n",
    "from operator import add\n",
    "import warnings\n",
    "warnings.filterwarnings(\"ignore\")"
   ]
  },
  {
   "cell_type": "code",
   "execution_count": 4,
   "id": "ff064035",
   "metadata": {},
   "outputs": [
    {
     "data": {
      "text/html": [
       "\n",
       "        <div>\n",
       "            <p><b>SparkContext</b></p>\n",
       "\n",
       "            <p><a href=\"http://10.0.2.15:4045\">Spark UI</a></p>\n",
       "\n",
       "            <dl>\n",
       "              <dt>Version</dt>\n",
       "                <dd><code>v3.1.3</code></dd>\n",
       "              <dt>Master</dt>\n",
       "                <dd><code>local[*]</code></dd>\n",
       "              <dt>AppName</dt>\n",
       "                <dd><code>PySparkShell</code></dd>\n",
       "            </dl>\n",
       "        </div>\n",
       "        "
      ],
      "text/plain": [
       "<SparkContext master=local[*] appName=PySparkShell>"
      ]
     },
     "execution_count": 4,
     "metadata": {},
     "output_type": "execute_result"
    }
   ],
   "source": [
    "sc"
   ]
  },
  {
   "cell_type": "code",
   "execution_count": 10,
   "id": "26b74cc7",
   "metadata": {},
   "outputs": [],
   "source": [
    "pt =sc.textFile('/ca2/ProjectTweets.csv')"
   ]
  },
  {
   "cell_type": "code",
   "execution_count": 6,
   "id": "ab47e75a",
   "metadata": {},
   "outputs": [
    {
     "name": "stderr",
     "output_type": "stream",
     "text": [
      "[Stage 0:=============================>                             (1 + 1) / 2]\r"
     ]
    },
    {
     "name": "stdout",
     "output_type": "stream",
     "text": [
      "number of lines: 1600000\n"
     ]
    },
    {
     "name": "stderr",
     "output_type": "stream",
     "text": [
      "\r",
      "                                                                                \r"
     ]
    }
   ],
   "source": [
    "print('number of lines: %s' % file_in.count())"
   ]
  },
  {
   "cell_type": "code",
   "execution_count": 11,
   "id": "72bdd8ac",
   "metadata": {},
   "outputs": [],
   "source": [
    "from pyspark.sql.types import *\n",
    "path = \"/ca2/ProjectTweets.csv\"\n",
    "schema = StructType([StructField('target', IntegerType(), True),\n",
    "                     StructField('ids', IntegerType(), True),\n",
    "                     StructField('date', StringType(), True),\n",
    "                     StructField('flag', StringType(), True),\n",
    "                     StructField('user', StringType(), True),\n",
    "                     StructField('text', StringType(), True)])\n",
    "TweetsDF = spark.read.csv(path,schema)"
   ]
  },
  {
   "cell_type": "code",
   "execution_count": 12,
   "id": "42518882",
   "metadata": {},
   "outputs": [
    {
     "name": "stdout",
     "output_type": "stream",
     "text": [
      "root\n",
      " |-- target: integer (nullable = true)\n",
      " |-- ids: integer (nullable = true)\n",
      " |-- date: string (nullable = true)\n",
      " |-- flag: string (nullable = true)\n",
      " |-- user: string (nullable = true)\n",
      " |-- text: string (nullable = true)\n",
      "\n"
     ]
    }
   ],
   "source": [
    "TweetsDF.printSchema()"
   ]
  },
  {
   "cell_type": "code",
   "execution_count": 18,
   "id": "21fb0ba3",
   "metadata": {
    "scrolled": true
   },
   "outputs": [
    {
     "data": {
      "text/plain": [
       "[Row(target=0, ids=1467810369, date='Mon Apr 06 22:19:45 PDT 2009', flag='NO_QUERY', user='_TheSpecialOne_', text=\"@switchfoot http://twitpic.com/2y1zl - Awww, that's a bummer.  You shoulda got David Carr of Third Day to do it. ;D\"),\n",
       " Row(target=1, ids=1467810672, date='Mon Apr 06 22:19:49 PDT 2009', flag='NO_QUERY', user='scotthamilton', text=\"is upset that he can't update his Facebook by texting it... and might cry as a result  School today also. Blah!\"),\n",
       " Row(target=2, ids=1467810917, date='Mon Apr 06 22:19:53 PDT 2009', flag='NO_QUERY', user='mattycus', text='@Kenichan I dived many times for the ball. Managed to save 50%  The rest go out of bounds'),\n",
       " Row(target=3, ids=1467811184, date='Mon Apr 06 22:19:57 PDT 2009', flag='NO_QUERY', user='ElleCTF', text='my whole body feels itchy and like its on fire '),\n",
       " Row(target=4, ids=1467811193, date='Mon Apr 06 22:19:57 PDT 2009', flag='NO_QUERY', user='Karoli', text=\"@nationwideclass no, it's not behaving at all. i'm mad. why am i here? because I can't see you all over there. \")]"
      ]
     },
     "execution_count": 18,
     "metadata": {},
     "output_type": "execute_result"
    }
   ],
   "source": [
    "TweetsDF.head(5)"
   ]
  },
  {
   "cell_type": "code",
   "execution_count": 19,
   "id": "7a309a2b",
   "metadata": {},
   "outputs": [
    {
     "data": {
      "text/plain": [
       "[('target', 'int'),\n",
       " ('ids', 'int'),\n",
       " ('date', 'string'),\n",
       " ('flag', 'string'),\n",
       " ('user', 'string'),\n",
       " ('text', 'string')]"
      ]
     },
     "execution_count": 19,
     "metadata": {},
     "output_type": "execute_result"
    }
   ],
   "source": [
    "TweetsDF.dtypes"
   ]
  },
  {
   "cell_type": "code",
   "execution_count": null,
   "id": "c8b9c4f6",
   "metadata": {},
   "outputs": [],
   "source": []
  },
  {
   "cell_type": "code",
   "execution_count": 28,
   "id": "8a0cc4b9",
   "metadata": {},
   "outputs": [
    {
     "name": "stdout",
     "output_type": "stream",
     "text": [
      "+------+----------+--------------------+--------+---------------+--------------------+\n",
      "|target|       ids|                date|    flag|           user|                text|\n",
      "+------+----------+--------------------+--------+---------------+--------------------+\n",
      "|  3778|1468674287|Tue Apr 07 03:05:...|NO_QUERY|      spwhitton|Just booted into ...|\n",
      "| 46315|1677375587|Sat May 02 01:45:...|NO_QUERY|  Dancingkate16|I hate revising w...|\n",
      "|660821|      null|Fri Jun 19 12:42:...|NO_QUERY|   MzVannaBlack|@introversive i w...|\n",
      "|623046|      null|Thu Jun 18 15:42:...|NO_QUERY|       arlenexo|it's JUNE - almos...|\n",
      "|108478|1824293567|Sun May 17 00:46:...|NO_QUERY|     lavishlace|Still wOrk , fuck...|\n",
      "|181009|1966735305|Fri May 29 18:18:...|NO_QUERY|     Rachael102|is gonna stop upl...|\n",
      "| 94860|1771212334|Mon May 11 23:34:...|NO_QUERY|  alexandragood|pizookies AND dan...|\n",
      "|627407|      null|Thu Jun 18 17:47:...|NO_QUERY|       shiney42|@PhillyNYY See Ya...|\n",
      "|755385|      null|Mon Jun 22 19:00:...|NO_QUERY|         deancj|Went and saw the ...|\n",
      "|387677|2054063004|Sat Jun 06 06:27:...|NO_QUERY|xXAnBuShinobiXx|Publishing my fir...|\n",
      "|766169|      null|Tue Jun 23 13:20:...|NO_QUERY|      alicema29|is so sad about j...|\n",
      "|763635|      null|Tue Jun 23 11:44:...|NO_QUERY|      helloeien|@MKupperman Art i...|\n",
      "|344907|2015777321|Wed Jun 03 05:29:...|NO_QUERY|    MSAhluwalia|@damaged_gurl_o3 ...|\n",
      "|464705|      null|Mon Jun 15 00:18:...|NO_QUERY|       Its_Amyy|I need more help!...|\n",
      "| 12849|1552000725|Sat Apr 18 10:31:...|NO_QUERY|  cassieewassie|Well then! why do...|\n",
      "|418731|2061834336|Sat Jun 06 21:43:...|NO_QUERY|     sevillasof|stayed home 2 fin...|\n",
      "|217497|1975948561|Sat May 30 16:15:...|NO_QUERY|         avecvu|That was anticlim...|\n",
      "|813687|1548862020|Fri Apr 17 22:12:...|NO_QUERY|    LS_FEARLESS|@teresanguyen yup...|\n",
      "|366655|2048919417|Fri Jun 05 15:59:...|NO_QUERY|        GaryBoy|@Going4Greatness ...|\n",
      "|553770|      null|Wed Jun 17 00:19:...|NO_QUERY|      amcrocker|I kinda feel like...|\n",
      "+------+----------+--------------------+--------+---------------+--------------------+\n",
      "only showing top 20 rows\n",
      "\n"
     ]
    },
    {
     "name": "stderr",
     "output_type": "stream",
     "text": [
      "2023-11-12 01:09:34,341 WARN execution.CacheManager: Asked to cache already cached data.\n"
     ]
    }
   ],
   "source": [
    "from pyspark.sql import functions as F\n",
    "\n",
    "# Read raw csv file into SparkDataFrame\n",
    "sdf_raw = spark.read.options(header=False,delimiter=',').schema(schema).csv(path).repartition(16).cache()\n",
    "sdf_raw.show()"
   ]
  },
  {
   "cell_type": "code",
   "execution_count": 51,
   "id": "9c89bcf0",
   "metadata": {},
   "outputs": [
    {
     "name": "stderr",
     "output_type": "stream",
     "text": [
      "                                                                                \r"
     ]
    }
   ],
   "source": [
    "tweetsdf= sdf_raw.toPandas()"
   ]
  },
  {
   "cell_type": "code",
   "execution_count": 52,
   "id": "16b1758b",
   "metadata": {
    "scrolled": true
   },
   "outputs": [
    {
     "data": {
      "text/html": [
       "<div>\n",
       "<style scoped>\n",
       "    .dataframe tbody tr th:only-of-type {\n",
       "        vertical-align: middle;\n",
       "    }\n",
       "\n",
       "    .dataframe tbody tr th {\n",
       "        vertical-align: top;\n",
       "    }\n",
       "\n",
       "    .dataframe thead th {\n",
       "        text-align: right;\n",
       "    }\n",
       "</style>\n",
       "<table border=\"1\" class=\"dataframe\">\n",
       "  <thead>\n",
       "    <tr style=\"text-align: right;\">\n",
       "      <th></th>\n",
       "      <th>target</th>\n",
       "      <th>ids</th>\n",
       "      <th>date</th>\n",
       "      <th>flag</th>\n",
       "      <th>user</th>\n",
       "      <th>text</th>\n",
       "    </tr>\n",
       "  </thead>\n",
       "  <tbody>\n",
       "    <tr>\n",
       "      <th>0</th>\n",
       "      <td>3778</td>\n",
       "      <td>1.468674e+09</td>\n",
       "      <td>Tue Apr 07 03:05:35 PDT 2009</td>\n",
       "      <td>NO_QUERY</td>\n",
       "      <td>spwhitton</td>\n",
       "      <td>Just booted into Windows to upload something s...</td>\n",
       "    </tr>\n",
       "    <tr>\n",
       "      <th>1</th>\n",
       "      <td>46315</td>\n",
       "      <td>1.677376e+09</td>\n",
       "      <td>Sat May 02 01:45:22 PDT 2009</td>\n",
       "      <td>NO_QUERY</td>\n",
       "      <td>Dancingkate16</td>\n",
       "      <td>I hate revising when the sun comes out and I'm...</td>\n",
       "    </tr>\n",
       "    <tr>\n",
       "      <th>2</th>\n",
       "      <td>660821</td>\n",
       "      <td>NaN</td>\n",
       "      <td>Fri Jun 19 12:42:04 PDT 2009</td>\n",
       "      <td>NO_QUERY</td>\n",
       "      <td>MzVannaBlack</td>\n",
       "      <td>@introversive i was just saying that the other...</td>\n",
       "    </tr>\n",
       "    <tr>\n",
       "      <th>3</th>\n",
       "      <td>623046</td>\n",
       "      <td>NaN</td>\n",
       "      <td>Thu Jun 18 15:42:31 PDT 2009</td>\n",
       "      <td>NO_QUERY</td>\n",
       "      <td>arlenexo</td>\n",
       "      <td>it's JUNE - almost JULY. getting sick of this ...</td>\n",
       "    </tr>\n",
       "    <tr>\n",
       "      <th>4</th>\n",
       "      <td>108478</td>\n",
       "      <td>1.824294e+09</td>\n",
       "      <td>Sun May 17 00:46:43 PDT 2009</td>\n",
       "      <td>NO_QUERY</td>\n",
       "      <td>lavishlace</td>\n",
       "      <td>Still wOrk , fuck , I'm still at wooorrrkkkk</td>\n",
       "    </tr>\n",
       "    <tr>\n",
       "      <th>...</th>\n",
       "      <td>...</td>\n",
       "      <td>...</td>\n",
       "      <td>...</td>\n",
       "      <td>...</td>\n",
       "      <td>...</td>\n",
       "      <td>...</td>\n",
       "    </tr>\n",
       "    <tr>\n",
       "      <th>1599995</th>\n",
       "      <td>1320636</td>\n",
       "      <td>2.014611e+09</td>\n",
       "      <td>Wed Jun 03 02:06:06 PDT 2009</td>\n",
       "      <td>NO_QUERY</td>\n",
       "      <td>kikimako</td>\n",
       "      <td>Everyone else better lift your game. You know ...</td>\n",
       "    </tr>\n",
       "    <tr>\n",
       "      <th>1599996</th>\n",
       "      <td>1184189</td>\n",
       "      <td>1.982565e+09</td>\n",
       "      <td>Sun May 31 11:27:46 PDT 2009</td>\n",
       "      <td>NO_QUERY</td>\n",
       "      <td>tortor56</td>\n",
       "      <td>ready for something extraordinary to happen</td>\n",
       "    </tr>\n",
       "    <tr>\n",
       "      <th>1599997</th>\n",
       "      <td>1367768</td>\n",
       "      <td>2.050473e+09</td>\n",
       "      <td>Fri Jun 05 18:43:55 PDT 2009</td>\n",
       "      <td>NO_QUERY</td>\n",
       "      <td>ReyBarcena</td>\n",
       "      <td>About 2 do a show honering mr. Nygel lythgoe a...</td>\n",
       "    </tr>\n",
       "    <tr>\n",
       "      <th>1599998</th>\n",
       "      <td>989157</td>\n",
       "      <td>1.834843e+09</td>\n",
       "      <td>Mon May 18 04:22:44 PDT 2009</td>\n",
       "      <td>NO_QUERY</td>\n",
       "      <td>seisui</td>\n",
       "      <td>enjoying sunday on monday</td>\n",
       "    </tr>\n",
       "    <tr>\n",
       "      <th>1599999</th>\n",
       "      <td>1552465</td>\n",
       "      <td>NaN</td>\n",
       "      <td>Mon Jun 15 15:50:41 PDT 2009</td>\n",
       "      <td>NO_QUERY</td>\n",
       "      <td>femercante</td>\n",
       "      <td>@tommcfly you and James should play together a...</td>\n",
       "    </tr>\n",
       "  </tbody>\n",
       "</table>\n",
       "<p>1600000 rows × 6 columns</p>\n",
       "</div>"
      ],
      "text/plain": [
       "          target           ids                          date      flag  \\\n",
       "0           3778  1.468674e+09  Tue Apr 07 03:05:35 PDT 2009  NO_QUERY   \n",
       "1          46315  1.677376e+09  Sat May 02 01:45:22 PDT 2009  NO_QUERY   \n",
       "2         660821           NaN  Fri Jun 19 12:42:04 PDT 2009  NO_QUERY   \n",
       "3         623046           NaN  Thu Jun 18 15:42:31 PDT 2009  NO_QUERY   \n",
       "4         108478  1.824294e+09  Sun May 17 00:46:43 PDT 2009  NO_QUERY   \n",
       "...          ...           ...                           ...       ...   \n",
       "1599995  1320636  2.014611e+09  Wed Jun 03 02:06:06 PDT 2009  NO_QUERY   \n",
       "1599996  1184189  1.982565e+09  Sun May 31 11:27:46 PDT 2009  NO_QUERY   \n",
       "1599997  1367768  2.050473e+09  Fri Jun 05 18:43:55 PDT 2009  NO_QUERY   \n",
       "1599998   989157  1.834843e+09  Mon May 18 04:22:44 PDT 2009  NO_QUERY   \n",
       "1599999  1552465           NaN  Mon Jun 15 15:50:41 PDT 2009  NO_QUERY   \n",
       "\n",
       "                  user                                               text  \n",
       "0            spwhitton  Just booted into Windows to upload something s...  \n",
       "1        Dancingkate16  I hate revising when the sun comes out and I'm...  \n",
       "2         MzVannaBlack  @introversive i was just saying that the other...  \n",
       "3             arlenexo  it's JUNE - almost JULY. getting sick of this ...  \n",
       "4           lavishlace      Still wOrk , fuck , I'm still at wooorrrkkkk   \n",
       "...                ...                                                ...  \n",
       "1599995       kikimako  Everyone else better lift your game. You know ...  \n",
       "1599996       tortor56       ready for something extraordinary to happen   \n",
       "1599997     ReyBarcena  About 2 do a show honering mr. Nygel lythgoe a...  \n",
       "1599998         seisui                         enjoying sunday on monday   \n",
       "1599999     femercante  @tommcfly you and James should play together a...  \n",
       "\n",
       "[1600000 rows x 6 columns]"
      ]
     },
     "execution_count": 52,
     "metadata": {},
     "output_type": "execute_result"
    }
   ],
   "source": [
    "tweetsdf"
   ]
  },
  {
   "cell_type": "code",
   "execution_count": 57,
   "id": "b10d256a",
   "metadata": {},
   "outputs": [],
   "source": [
    "tweetsdf['date']=pd.to_datetime(tweetsdf['date'])"
   ]
  },
  {
   "cell_type": "code",
   "execution_count": 63,
   "id": "81637a76",
   "metadata": {},
   "outputs": [
    {
     "data": {
      "text/plain": [
       "target      int32\n",
       "ids       float64\n",
       "flag       object\n",
       "user       object\n",
       "text       object\n",
       "dtype: object"
      ]
     },
     "execution_count": 63,
     "metadata": {},
     "output_type": "execute_result"
    },
    {
     "name": "stderr",
     "output_type": "stream",
     "text": [
      "2023-11-12 08:22:16,148 WARN spark.HeartbeatReceiver: Removing executor driver with no recent heartbeats: 11091316 ms exceeds timeout 120000 ms\n",
      "2023-11-12 08:22:16,171 WARN spark.SparkContext: Killing executors is not supported by current scheduler.\n"
     ]
    }
   ],
   "source": [
    "tweetsdf.dtypes"
   ]
  },
  {
   "cell_type": "code",
   "execution_count": 58,
   "id": "3d80ea7d",
   "metadata": {},
   "outputs": [],
   "source": [
    "import pandas as pd\n",
    "import datetime"
   ]
  },
  {
   "cell_type": "code",
   "execution_count": 59,
   "id": "a4105e19",
   "metadata": {},
   "outputs": [],
   "source": [
    "tweetsdf.set_index(\"date\", inplace=True)"
   ]
  },
  {
   "cell_type": "code",
   "execution_count": 62,
   "id": "dca7596b",
   "metadata": {},
   "outputs": [
    {
     "data": {
      "text/html": [
       "<div>\n",
       "<style scoped>\n",
       "    .dataframe tbody tr th:only-of-type {\n",
       "        vertical-align: middle;\n",
       "    }\n",
       "\n",
       "    .dataframe tbody tr th {\n",
       "        vertical-align: top;\n",
       "    }\n",
       "\n",
       "    .dataframe thead th {\n",
       "        text-align: right;\n",
       "    }\n",
       "</style>\n",
       "<table border=\"1\" class=\"dataframe\">\n",
       "  <thead>\n",
       "    <tr style=\"text-align: right;\">\n",
       "      <th></th>\n",
       "      <th>target</th>\n",
       "      <th>ids</th>\n",
       "      <th>flag</th>\n",
       "      <th>user</th>\n",
       "      <th>text</th>\n",
       "    </tr>\n",
       "    <tr>\n",
       "      <th>date</th>\n",
       "      <th></th>\n",
       "      <th></th>\n",
       "      <th></th>\n",
       "      <th></th>\n",
       "      <th></th>\n",
       "    </tr>\n",
       "  </thead>\n",
       "  <tbody>\n",
       "    <tr>\n",
       "      <th>2009-04-07 03:05:35</th>\n",
       "      <td>3778</td>\n",
       "      <td>1.468674e+09</td>\n",
       "      <td>NO_QUERY</td>\n",
       "      <td>spwhitton</td>\n",
       "      <td>Just booted into Windows to upload something s...</td>\n",
       "    </tr>\n",
       "    <tr>\n",
       "      <th>2009-05-02 01:45:22</th>\n",
       "      <td>46315</td>\n",
       "      <td>1.677376e+09</td>\n",
       "      <td>NO_QUERY</td>\n",
       "      <td>Dancingkate16</td>\n",
       "      <td>I hate revising when the sun comes out and I'm...</td>\n",
       "    </tr>\n",
       "    <tr>\n",
       "      <th>2009-06-19 12:42:04</th>\n",
       "      <td>660821</td>\n",
       "      <td>NaN</td>\n",
       "      <td>NO_QUERY</td>\n",
       "      <td>MzVannaBlack</td>\n",
       "      <td>@introversive i was just saying that the other...</td>\n",
       "    </tr>\n",
       "    <tr>\n",
       "      <th>2009-06-18 15:42:31</th>\n",
       "      <td>623046</td>\n",
       "      <td>NaN</td>\n",
       "      <td>NO_QUERY</td>\n",
       "      <td>arlenexo</td>\n",
       "      <td>it's JUNE - almost JULY. getting sick of this ...</td>\n",
       "    </tr>\n",
       "    <tr>\n",
       "      <th>2009-05-17 00:46:43</th>\n",
       "      <td>108478</td>\n",
       "      <td>1.824294e+09</td>\n",
       "      <td>NO_QUERY</td>\n",
       "      <td>lavishlace</td>\n",
       "      <td>Still wOrk , fuck , I'm still at wooorrrkkkk</td>\n",
       "    </tr>\n",
       "    <tr>\n",
       "      <th>...</th>\n",
       "      <td>...</td>\n",
       "      <td>...</td>\n",
       "      <td>...</td>\n",
       "      <td>...</td>\n",
       "      <td>...</td>\n",
       "    </tr>\n",
       "    <tr>\n",
       "      <th>2009-06-03 02:06:06</th>\n",
       "      <td>1320636</td>\n",
       "      <td>2.014611e+09</td>\n",
       "      <td>NO_QUERY</td>\n",
       "      <td>kikimako</td>\n",
       "      <td>Everyone else better lift your game. You know ...</td>\n",
       "    </tr>\n",
       "    <tr>\n",
       "      <th>2009-05-31 11:27:46</th>\n",
       "      <td>1184189</td>\n",
       "      <td>1.982565e+09</td>\n",
       "      <td>NO_QUERY</td>\n",
       "      <td>tortor56</td>\n",
       "      <td>ready for something extraordinary to happen</td>\n",
       "    </tr>\n",
       "    <tr>\n",
       "      <th>2009-06-05 18:43:55</th>\n",
       "      <td>1367768</td>\n",
       "      <td>2.050473e+09</td>\n",
       "      <td>NO_QUERY</td>\n",
       "      <td>ReyBarcena</td>\n",
       "      <td>About 2 do a show honering mr. Nygel lythgoe a...</td>\n",
       "    </tr>\n",
       "    <tr>\n",
       "      <th>2009-05-18 04:22:44</th>\n",
       "      <td>989157</td>\n",
       "      <td>1.834843e+09</td>\n",
       "      <td>NO_QUERY</td>\n",
       "      <td>seisui</td>\n",
       "      <td>enjoying sunday on monday</td>\n",
       "    </tr>\n",
       "    <tr>\n",
       "      <th>2009-06-15 15:50:41</th>\n",
       "      <td>1552465</td>\n",
       "      <td>NaN</td>\n",
       "      <td>NO_QUERY</td>\n",
       "      <td>femercante</td>\n",
       "      <td>@tommcfly you and James should play together a...</td>\n",
       "    </tr>\n",
       "  </tbody>\n",
       "</table>\n",
       "<p>1600000 rows × 5 columns</p>\n",
       "</div>"
      ],
      "text/plain": [
       "                      target           ids      flag           user  \\\n",
       "date                                                                  \n",
       "2009-04-07 03:05:35     3778  1.468674e+09  NO_QUERY      spwhitton   \n",
       "2009-05-02 01:45:22    46315  1.677376e+09  NO_QUERY  Dancingkate16   \n",
       "2009-06-19 12:42:04   660821           NaN  NO_QUERY   MzVannaBlack   \n",
       "2009-06-18 15:42:31   623046           NaN  NO_QUERY       arlenexo   \n",
       "2009-05-17 00:46:43   108478  1.824294e+09  NO_QUERY     lavishlace   \n",
       "...                      ...           ...       ...            ...   \n",
       "2009-06-03 02:06:06  1320636  2.014611e+09  NO_QUERY       kikimako   \n",
       "2009-05-31 11:27:46  1184189  1.982565e+09  NO_QUERY       tortor56   \n",
       "2009-06-05 18:43:55  1367768  2.050473e+09  NO_QUERY     ReyBarcena   \n",
       "2009-05-18 04:22:44   989157  1.834843e+09  NO_QUERY         seisui   \n",
       "2009-06-15 15:50:41  1552465           NaN  NO_QUERY     femercante   \n",
       "\n",
       "                                                                  text  \n",
       "date                                                                    \n",
       "2009-04-07 03:05:35  Just booted into Windows to upload something s...  \n",
       "2009-05-02 01:45:22  I hate revising when the sun comes out and I'm...  \n",
       "2009-06-19 12:42:04  @introversive i was just saying that the other...  \n",
       "2009-06-18 15:42:31  it's JUNE - almost JULY. getting sick of this ...  \n",
       "2009-05-17 00:46:43      Still wOrk , fuck , I'm still at wooorrrkkkk   \n",
       "...                                                                ...  \n",
       "2009-06-03 02:06:06  Everyone else better lift your game. You know ...  \n",
       "2009-05-31 11:27:46       ready for something extraordinary to happen   \n",
       "2009-06-05 18:43:55  About 2 do a show honering mr. Nygel lythgoe a...  \n",
       "2009-05-18 04:22:44                         enjoying sunday on monday   \n",
       "2009-06-15 15:50:41  @tommcfly you and James should play together a...  \n",
       "\n",
       "[1600000 rows x 5 columns]"
      ]
     },
     "execution_count": 62,
     "metadata": {},
     "output_type": "execute_result"
    }
   ],
   "source": [
    "tweetsdf"
   ]
  },
  {
   "cell_type": "code",
   "execution_count": 64,
   "id": "f66bc167",
   "metadata": {},
   "outputs": [],
   "source": [
    "tweets=tweetsdf['text']\n",
    "tweets.to_csv('tweets_sparksql.csv')"
   ]
  },
  {
   "cell_type": "code",
   "execution_count": 65,
   "id": "092b177c",
   "metadata": {},
   "outputs": [
    {
     "data": {
      "text/html": [
       "<div>\n",
       "<style scoped>\n",
       "    .dataframe tbody tr th:only-of-type {\n",
       "        vertical-align: middle;\n",
       "    }\n",
       "\n",
       "    .dataframe tbody tr th {\n",
       "        vertical-align: top;\n",
       "    }\n",
       "\n",
       "    .dataframe thead th {\n",
       "        text-align: right;\n",
       "    }\n",
       "</style>\n",
       "<table border=\"1\" class=\"dataframe\">\n",
       "  <thead>\n",
       "    <tr style=\"text-align: right;\">\n",
       "      <th></th>\n",
       "      <th>date</th>\n",
       "      <th>text</th>\n",
       "    </tr>\n",
       "  </thead>\n",
       "  <tbody>\n",
       "    <tr>\n",
       "      <th>0</th>\n",
       "      <td>2009-04-07 03:05:35</td>\n",
       "      <td>Just booted into Windows to upload something s...</td>\n",
       "    </tr>\n",
       "    <tr>\n",
       "      <th>1</th>\n",
       "      <td>2009-05-02 01:45:22</td>\n",
       "      <td>I hate revising when the sun comes out and I'm...</td>\n",
       "    </tr>\n",
       "    <tr>\n",
       "      <th>2</th>\n",
       "      <td>2009-06-19 12:42:04</td>\n",
       "      <td>@introversive i was just saying that the other...</td>\n",
       "    </tr>\n",
       "    <tr>\n",
       "      <th>3</th>\n",
       "      <td>2009-06-18 15:42:31</td>\n",
       "      <td>it's JUNE - almost JULY. getting sick of this ...</td>\n",
       "    </tr>\n",
       "    <tr>\n",
       "      <th>4</th>\n",
       "      <td>2009-05-17 00:46:43</td>\n",
       "      <td>Still wOrk , fuck , I'm still at wooorrrkkkk</td>\n",
       "    </tr>\n",
       "  </tbody>\n",
       "</table>\n",
       "</div>"
      ],
      "text/plain": [
       "                  date                                               text\n",
       "0  2009-04-07 03:05:35  Just booted into Windows to upload something s...\n",
       "1  2009-05-02 01:45:22  I hate revising when the sun comes out and I'm...\n",
       "2  2009-06-19 12:42:04  @introversive i was just saying that the other...\n",
       "3  2009-06-18 15:42:31  it's JUNE - almost JULY. getting sick of this ...\n",
       "4  2009-05-17 00:46:43      Still wOrk , fuck , I'm still at wooorrrkkkk "
      ]
     },
     "execution_count": 65,
     "metadata": {},
     "output_type": "execute_result"
    }
   ],
   "source": [
    "t=pd.read_csv(\"tweets_sparksql.csv\")\n",
    "t.head(5)"
   ]
  },
  {
   "cell_type": "code",
   "execution_count": 68,
   "id": "794d008f",
   "metadata": {},
   "outputs": [],
   "source": [
    "#pip install tensorflow"
   ]
  },
  {
   "cell_type": "code",
   "execution_count": 70,
   "id": "7135dde2",
   "metadata": {},
   "outputs": [
    {
     "name": "stderr",
     "output_type": "stream",
     "text": [
      "[nltk_data] Downloading package stopwords to /home/hduser/nltk_data...\n",
      "[nltk_data]   Package stopwords is already up-to-date!\n"
     ]
    }
   ],
   "source": [
    "import pandas as pd\n",
    "import numpy as np\n",
    "import seaborn as sns\n",
    "import re\n",
    "import string\n",
    "from string import punctuation\n",
    "import nltk\n",
    "from nltk.corpus import stopwords\n",
    "nltk.download('stopwords')\n",
    "\n",
    "\n",
    "import matplotlib.pyplot as plt\n",
    "from sklearn.model_selection import train_test_split\n",
    "from sklearn.feature_extraction.text import CountVectorizer\n",
    "from sklearn.feature_extraction.text import TfidfTransformer"
   ]
  },
  {
   "cell_type": "code",
   "execution_count": 73,
   "id": "e603a1f8",
   "metadata": {},
   "outputs": [],
   "source": [
    "# Loading NLTK\n",
    "import nltk"
   ]
  },
  {
   "cell_type": "code",
   "execution_count": null,
   "id": "abd202ae",
   "metadata": {},
   "outputs": [],
   "source": [
    "from nltk.tokenize import sent_tokenize\n",
    "tokenized_text=sent_tokenize(t['text'])\n",
    "print(tokenized_text)"
   ]
  },
  {
   "cell_type": "code",
   "execution_count": null,
   "id": "8601d01e",
   "metadata": {},
   "outputs": [],
   "source": []
  }
 ],
 "metadata": {
  "kernelspec": {
   "display_name": "Python 3 (ipykernel)",
   "language": "python",
   "name": "python3"
  },
  "language_info": {
   "codemirror_mode": {
    "name": "ipython",
    "version": 3
   },
   "file_extension": ".py",
   "mimetype": "text/x-python",
   "name": "python",
   "nbconvert_exporter": "python",
   "pygments_lexer": "ipython3",
   "version": "3.10.12"
  }
 },
 "nbformat": 4,
 "nbformat_minor": 5
}
